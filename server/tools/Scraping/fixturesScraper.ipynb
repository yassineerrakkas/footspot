{
 "cells": [
  {
   "cell_type": "code",
   "execution_count": 2,
   "metadata": {},
   "outputs": [],
   "source": [
    "from selenium import webdriver\n",
    "from selenium.webdriver.common.by import By\n",
    "from datetime import datetime\n",
    "import json\n"
   ]
  },
  {
   "cell_type": "code",
   "execution_count": 3,
   "metadata": {},
   "outputs": [],
   "source": [
    "driver = webdriver.Edge()\n",
    "driver.get(\"https://www.skysports.com/ligue-1-fixtures\")"
   ]
  },
  {
   "cell_type": "code",
   "execution_count": 19,
   "metadata": {},
   "outputs": [
    {
     "name": "stdout",
     "output_type": "stream",
     "text": [
      "{'09/01': [{'team1': 'Nantes', 'time': '20:00', 'team2': 'Marseille'}], '09/02': [{'team1': 'Brest', 'time': '16:00', 'team2': 'Rennes'}, {'team1': 'Monaco', 'time': '20:00', 'team2': 'RC Lens'}], '09/03': [{'team1': 'Toulouse', 'time': '12:00', 'team2': 'Clermont'}, {'team1': 'Le Havre', 'time': '14:00', 'team2': 'Lorient'}, {'team1': 'Lille', 'time': '14:00', 'team2': 'Montpellier'}, {'team1': 'Metz', 'time': '14:00', 'team2': 'Reims'}, {'team1': 'Nice', 'time': '16:05', 'team2': 'Strasbourg'}, {'team1': 'Lyon', 'time': '19:45', 'team2': 'Paris Saint-Germain'}], '09/17': [{'team1': 'Clermont', 'time': '14:00', 'team2': 'Nantes'}, {'team1': 'Lorient', 'time': '14:00', 'team2': 'Monaco'}, {'team1': 'Lyon', 'time': '14:00', 'team2': 'Le Havre'}, {'team1': 'Marseille', 'time': '14:00', 'team2': 'Toulouse'}, {'team1': 'Paris Saint-Germain', 'time': '14:00', 'team2': 'Nice'}, {'team1': 'RC Lens', 'time': '14:00', 'team2': 'Metz'}, {'team1': 'Reims', 'time': '14:00', 'team2': 'Brest'}, {'team1': 'Rennes', 'time': '14:00', 'team2': 'Lille'}, {'team1': 'Strasbourg', 'time': '14:00', 'team2': 'Montpellier'}], '09/22': [{'team1': 'Monaco', 'time': '20:00', 'team2': 'Nice'}], '09/23': [{'team1': 'Nantes', 'time': '16:00', 'team2': 'Lorient'}, {'team1': 'Brest', 'time': '20:00', 'team2': 'Lyon'}], '09/24': [{'team1': 'Metz', 'time': '12:00', 'team2': 'Strasbourg'}, {'team1': 'Le Havre', 'time': '14:00', 'team2': 'Clermont'}, {'team1': 'RC Lens', 'time': '14:00', 'team2': 'Toulouse'}, {'team1': 'Montpellier', 'time': '16:05', 'team2': 'Rennes'}, {'team1': 'Paris Saint-Germain', 'time': '19:45', 'team2': 'Marseille'}], '09/26': [{'team1': 'Lille', 'time': '20:00', 'team2': 'Reims'}], '10/01': [{'team1': 'Clermont', 'time': '14:00', 'team2': 'Paris Saint-Germain'}, {'team1': 'Le Havre', 'time': '14:00', 'team2': 'Lille'}, {'team1': 'Lorient', 'time': '14:00', 'team2': 'Montpellier'}, {'team1': 'Monaco', 'time': '14:00', 'team2': 'Marseille'}, {'team1': 'Nice', 'time': '14:00', 'team2': 'Brest'}, {'team1': 'Reims', 'time': '14:00', 'team2': 'Lyon'}, {'team1': 'Rennes', 'time': '14:00', 'team2': 'Nantes'}, {'team1': 'Strasbourg', 'time': '14:00', 'team2': 'RC Lens'}, {'team1': 'Toulouse', 'time': '14:00', 'team2': 'Metz'}], '10/08': [{'team1': 'Brest', 'time': '14:00', 'team2': 'Toulouse'}, {'team1': 'Lyon', 'time': '14:00', 'team2': 'Lorient'}, {'team1': 'Marseille', 'time': '14:00', 'team2': 'Le Havre'}, {'team1': 'Metz', 'time': '14:00', 'team2': 'Nice'}, {'team1': 'Montpellier', 'time': '14:00', 'team2': 'Clermont'}, {'team1': 'RC Lens', 'time': '14:00', 'team2': 'Lille'}, {'team1': 'Reims', 'time': '14:00', 'team2': 'Monaco'}, {'team1': 'Rennes', 'time': '14:00', 'team2': 'Paris Saint-Germain'}, {'team1': 'Strasbourg', 'time': '14:00', 'team2': 'Nantes'}], '10/22': [{'team1': 'Le Havre', 'time': '14:00', 'team2': 'RC Lens'}, {'team1': 'Lille', 'time': '14:00', 'team2': 'Brest'}, {'team1': 'Lorient', 'time': '14:00', 'team2': 'Rennes'}, {'team1': 'Lyon', 'time': '14:00', 'team2': 'Clermont'}, {'team1': 'Monaco', 'time': '14:00', 'team2': 'Metz'}, {'team1': 'Nantes', 'time': '14:00', 'team2': 'Montpellier'}, {'team1': 'Nice', 'time': '14:00', 'team2': 'Marseille'}, {'team1': 'Paris Saint-Germain', 'time': '14:00', 'team2': 'Strasbourg'}, {'team1': 'Toulouse', 'time': '14:00', 'team2': 'Reims'}], '10/29': [{'team1': 'Brest', 'time': '14:00', 'team2': 'Paris Saint-Germain'}, {'team1': 'Clermont', 'time': '14:00', 'team2': 'Nice'}, {'team1': 'Lille', 'time': '14:00', 'team2': 'Monaco'}, {'team1': 'Marseille', 'time': '14:00', 'team2': 'Lyon'}, {'team1': 'Metz', 'time': '14:00', 'team2': 'Le Havre'}, {'team1': 'Montpellier', 'time': '14:00', 'team2': 'Toulouse'}, {'team1': 'RC Lens', 'time': '14:00', 'team2': 'Nantes'}, {'team1': 'Reims', 'time': '14:00', 'team2': 'Lorient'}, {'team1': 'Rennes', 'time': '14:00', 'team2': 'Strasbourg'}], '11/05': [{'team1': 'Lorient', 'time': '14:00', 'team2': 'RC Lens'}, {'team1': 'Lyon', 'time': '14:00', 'team2': 'Metz'}, {'team1': 'Marseille', 'time': '14:00', 'team2': 'Lille'}, {'team1': 'Monaco', 'time': '14:00', 'team2': 'Brest'}, {'team1': 'Nantes', 'time': '14:00', 'team2': 'Reims'}, {'team1': 'Nice', 'time': '14:00', 'team2': 'Rennes'}, {'team1': 'Paris Saint-Germain', 'time': '14:00', 'team2': 'Montpellier'}, {'team1': 'Strasbourg', 'time': '14:00', 'team2': 'Clermont'}, {'team1': 'Toulouse', 'time': '14:00', 'team2': 'Le Havre'}], '11/12': [{'team1': 'Brest', 'time': '14:00', 'team2': 'Strasbourg'}, {'team1': 'Clermont', 'time': '14:00', 'team2': 'Lorient'}, {'team1': 'Le Havre', 'time': '14:00', 'team2': 'Monaco'}, {'team1': 'Lille', 'time': '14:00', 'team2': 'Toulouse'}, {'team1': 'Metz', 'time': '14:00', 'team2': 'Nantes'}, {'team1': 'Montpellier', 'time': '14:00', 'team2': 'Nice'}, {'team1': 'RC Lens', 'time': '14:00', 'team2': 'Marseille'}, {'team1': 'Reims', 'time': '14:00', 'team2': 'Paris Saint-Germain'}, {'team1': 'Rennes', 'time': '14:00', 'team2': 'Lyon'}], '11/26': [{'team1': 'Clermont', 'time': '14:00', 'team2': 'RC Lens'}, {'team1': 'Lorient', 'time': '14:00', 'team2': 'Metz'}, {'team1': 'Lyon', 'time': '14:00', 'team2': 'Lille'}, {'team1': 'Montpellier', 'time': '14:00', 'team2': 'Brest'}, {'team1': 'Nantes', 'time': '14:00', 'team2': 'Le Havre'}, {'team1': 'Nice', 'time': '14:00', 'team2': 'Toulouse'}, {'team1': 'Paris Saint-Germain', 'time': '14:00', 'team2': 'Monaco'}, {'team1': 'Rennes', 'time': '14:00', 'team2': 'Reims'}, {'team1': 'Strasbourg', 'time': '14:00', 'team2': 'Marseille'}], '12/03': [{'team1': 'Brest', 'time': '14:00', 'team2': 'Clermont'}, {'team1': 'Le Havre', 'time': '14:00', 'team2': 'Paris Saint-Germain'}, {'team1': 'Lille', 'time': '14:00', 'team2': 'Metz'}, {'team1': 'Marseille', 'time': '14:00', 'team2': 'Rennes'}, {'team1': 'Monaco', 'time': '14:00', 'team2': 'Montpellier'}, {'team1': 'Nantes', 'time': '14:00', 'team2': 'Nice'}, {'team1': 'RC Lens', 'time': '14:00', 'team2': 'Lyon'}, {'team1': 'Reims', 'time': '14:00', 'team2': 'Strasbourg'}, {'team1': 'Toulouse', 'time': '14:00', 'team2': 'Lorient'}], '12/10': [{'team1': 'Clermont', 'time': '14:00', 'team2': 'Lille'}, {'team1': 'Lorient', 'time': '14:00', 'team2': 'Marseille'}, {'team1': 'Lyon', 'time': '14:00', 'team2': 'Toulouse'}, {'team1': 'Metz', 'time': '14:00', 'team2': 'Brest'}, {'team1': 'Montpellier', 'time': '14:00', 'team2': 'RC Lens'}, {'team1': 'Nice', 'time': '14:00', 'team2': 'Reims'}, {'team1': 'Paris Saint-Germain', 'time': '14:00', 'team2': 'Nantes'}, {'team1': 'Rennes', 'time': '14:00', 'team2': 'Monaco'}, {'team1': 'Strasbourg', 'time': '14:00', 'team2': 'Le Havre'}], '12/17': [{'team1': 'Le Havre', 'time': '14:00', 'team2': 'Nice'}, {'team1': 'Lille', 'time': '14:00', 'team2': 'Paris Saint-Germain'}, {'team1': 'Lorient', 'time': '14:00', 'team2': 'Strasbourg'}, {'team1': 'Marseille', 'time': '14:00', 'team2': 'Clermont'}, {'team1': 'Metz', 'time': '14:00', 'team2': 'Montpellier'}, {'team1': 'Monaco', 'time': '14:00', 'team2': 'Lyon'}, {'team1': 'Nantes', 'time': '14:00', 'team2': 'Brest'}, {'team1': 'RC Lens', 'time': '14:00', 'team2': 'Reims'}, {'team1': 'Toulouse', 'time': '14:00', 'team2': 'Rennes'}], '12/20': [{'team1': 'Brest', 'time': '20:00', 'team2': 'Lorient'}, {'team1': 'Clermont', 'time': '20:00', 'team2': 'Rennes'}, {'team1': 'Lyon', 'time': '20:00', 'team2': 'Nantes'}, {'team1': 'Montpellier', 'time': '20:00', 'team2': 'Marseille'}, {'team1': 'Nice', 'time': '20:00', 'team2': 'RC Lens'}, {'team1': 'Paris Saint-Germain', 'time': '20:00', 'team2': 'Metz'}, {'team1': 'Reims', 'time': '20:00', 'team2': 'Le Havre'}, {'team1': 'Strasbourg', 'time': '20:00', 'team2': 'Lille'}, {'team1': 'Toulouse', 'time': '20:00', 'team2': 'Monaco'}], '01/13': [{'team1': 'Brest', 'time': '14:00', 'team2': 'Montpellier'}, {'team1': 'Le Havre', 'time': '14:00', 'team2': 'Lyon'}, {'team1': 'Lille', 'time': '14:00', 'team2': 'Lorient'}, {'team1': 'Marseille', 'time': '14:00', 'team2': 'Strasbourg'}, {'team1': 'Metz', 'time': '14:00', 'team2': 'Toulouse'}, {'team1': 'Monaco', 'time': '14:00', 'team2': 'Reims'}, {'team1': 'Nantes', 'time': '14:00', 'team2': 'Clermont'}, {'team1': 'Rennes', 'time': '14:00', 'team2': 'Nice'}], '01/14': [{'team1': 'RC Lens', 'time': '14:00', 'team2': 'Paris Saint-Germain'}], '01/28': [{'team1': 'Clermont', 'time': '14:00', 'team2': 'Strasbourg'}, {'team1': 'Lorient', 'time': '14:00', 'team2': 'Le Havre'}, {'team1': 'Lyon', 'time': '14:00', 'team2': 'Rennes'}, {'team1': 'Marseille', 'time': '14:00', 'team2': 'Monaco'}, {'team1': 'Montpellier', 'time': '14:00', 'team2': 'Lille'}, {'team1': 'Nice', 'time': '14:00', 'team2': 'Metz'}, {'team1': 'Paris Saint-Germain', 'time': '14:00', 'team2': 'Brest'}, {'team1': 'Reims', 'time': '14:00', 'team2': 'Nantes'}, {'team1': 'Toulouse', 'time': '14:00', 'team2': 'RC Lens'}], '02/04': [{'team1': 'Brest', 'time': '14:00', 'team2': 'Nice'}, {'team1': 'Lille', 'time': '14:00', 'team2': 'Clermont'}, {'team1': 'Lyon', 'time': '14:00', 'team2': 'Marseille'}, {'team1': 'Metz', 'time': '14:00', 'team2': 'Lorient'}, {'team1': 'Monaco', 'time': '14:00', 'team2': 'Le Havre'}, {'team1': 'Nantes', 'time': '14:00', 'team2': 'RC Lens'}, {'team1': 'Reims', 'time': '14:00', 'team2': 'Toulouse'}, {'team1': 'Rennes', 'time': '14:00', 'team2': 'Montpellier'}, {'team1': 'Strasbourg', 'time': '14:00', 'team2': 'Paris Saint-Germain'}], '02/11': [{'team1': 'Clermont', 'time': '14:00', 'team2': 'Brest'}, {'team1': 'Le Havre', 'time': '14:00', 'team2': 'Rennes'}, {'team1': 'Lorient', 'time': '14:00', 'team2': 'Reims'}, {'team1': 'Marseille', 'time': '14:00', 'team2': 'Metz'}, {'team1': 'Montpellier', 'time': '14:00', 'team2': 'Lyon'}, {'team1': 'Nice', 'time': '14:00', 'team2': 'Monaco'}, {'team1': 'Paris Saint-Germain', 'time': '14:00', 'team2': 'Lille'}, {'team1': 'RC Lens', 'time': '14:00', 'team2': 'Strasbourg'}, {'team1': 'Toulouse', 'time': '14:00', 'team2': 'Nantes'}], '02/18': [{'team1': 'Brest', 'time': '14:00', 'team2': 'Marseille'}, {'team1': 'Lille', 'time': '14:00', 'team2': 'Le Havre'}, {'team1': 'Lyon', 'time': '14:00', 'team2': 'Nice'}, {'team1': 'Monaco', 'time': '14:00', 'team2': 'Toulouse'}, {'team1': 'Montpellier', 'time': '14:00', 'team2': 'Metz'}, {'team1': 'Nantes', 'time': '14:00', 'team2': 'Paris Saint-Germain'}, {'team1': 'Reims', 'time': '14:00', 'team2': 'RC Lens'}, {'team1': 'Rennes', 'time': '14:00', 'team2': 'Clermont'}, {'team1': 'Strasbourg', 'time': '14:00', 'team2': 'Lorient'}], '02/25': [{'team1': 'Le Havre', 'time': '14:00', 'team2': 'Reims'}, {'team1': 'Lorient', 'time': '14:00', 'team2': 'Nantes'}, {'team1': 'Marseille', 'time': '14:00', 'team2': 'Montpellier'}, {'team1': 'Metz', 'time': '14:00', 'team2': 'Lyon'}, {'team1': 'Nice', 'time': '14:00', 'team2': 'Clermont'}, {'team1': 'Paris Saint-Germain', 'time': '14:00', 'team2': 'Rennes'}, {'team1': 'RC Lens', 'time': '14:00', 'team2': 'Monaco'}, {'team1': 'Strasbourg', 'time': '14:00', 'team2': 'Brest'}, {'team1': 'Toulouse', 'time': '14:00', 'team2': 'Lille'}], '03/03': [{'team1': 'Brest', 'time': '14:00', 'team2': 'Le Havre'}, {'team1': 'Clermont', 'time': '14:00', 'team2': 'Marseille'}, {'team1': 'Lyon', 'time': '14:00', 'team2': 'RC Lens'}, {'team1': 'Monaco', 'time': '14:00', 'team2': 'Paris Saint-Germain'}, {'team1': 'Montpellier', 'time': '14:00', 'team2': 'Strasbourg'}, {'team1': 'Nantes', 'time': '14:00', 'team2': 'Metz'}, {'team1': 'Reims', 'time': '14:00', 'team2': 'Lille'}, {'team1': 'Rennes', 'time': '14:00', 'team2': 'Lorient'}, {'team1': 'Toulouse', 'time': '14:00', 'team2': 'Nice'}], '03/10': [{'team1': 'Le Havre', 'time': '14:00', 'team2': 'Toulouse'}, {'team1': 'Lille', 'time': '14:00', 'team2': 'Rennes'}, {'team1': 'Lorient', 'time': '14:00', 'team2': 'Lyon'}, {'team1': 'Marseille', 'time': '14:00', 'team2': 'Nantes'}, {'team1': 'Metz', 'time': '14:00', 'team2': 'Clermont'}, {'team1': 'Nice', 'time': '14:00', 'team2': 'Montpellier'}, {'team1': 'Paris Saint-Germain', 'time': '14:00', 'team2': 'Reims'}, {'team1': 'RC Lens', 'time': '14:00', 'team2': 'Brest'}, {'team1': 'Strasbourg', 'time': '14:00', 'team2': 'Monaco'}], '03/17': [{'team1': 'Brest', 'time': '14:00', 'team2': 'Lille'}, {'team1': 'Clermont', 'time': '14:00', 'team2': 'Le Havre'}, {'team1': 'Monaco', 'time': '14:00', 'team2': 'Lorient'}, {'team1': 'Montpellier', 'time': '14:00', 'team2': 'Paris Saint-Germain'}, {'team1': 'Nantes', 'time': '14:00', 'team2': 'Strasbourg'}, {'team1': 'RC Lens', 'time': '14:00', 'team2': 'Nice'}, {'team1': 'Reims', 'time': '14:00', 'team2': 'Metz'}, {'team1': 'Rennes', 'time': '14:00', 'team2': 'Marseille'}, {'team1': 'Toulouse', 'time': '14:00', 'team2': 'Lyon'}], '03/31': [{'team1': 'Clermont', 'time': '14:00', 'team2': 'Toulouse'}, {'team1': 'Le Havre', 'time': '14:00', 'team2': 'Montpellier'}, {'team1': 'Lille', 'time': '14:00', 'team2': 'RC Lens'}, {'team1': 'Lorient', 'time': '14:00', 'team2': 'Brest'}, {'team1': 'Lyon', 'time': '14:00', 'team2': 'Reims'}, {'team1': 'Marseille', 'time': '14:00', 'team2': 'Paris Saint-Germain'}, {'team1': 'Metz', 'time': '14:00', 'team2': 'Monaco'}, {'team1': 'Nice', 'time': '14:00', 'team2': 'Nantes'}, {'team1': 'Strasbourg', 'time': '14:00', 'team2': 'Rennes'}], '04/07': [{'team1': 'Brest', 'time': '14:00', 'team2': 'Metz'}, {'team1': 'Lille', 'time': '14:00', 'team2': 'Marseille'}, {'team1': 'Monaco', 'time': '14:00', 'team2': 'Rennes'}, {'team1': 'Montpellier', 'time': '14:00', 'team2': 'Lorient'}, {'team1': 'Nantes', 'time': '14:00', 'team2': 'Lyon'}, {'team1': 'Paris Saint-Germain', 'time': '14:00', 'team2': 'Clermont'}, {'team1': 'RC Lens', 'time': '14:00', 'team2': 'Le Havre'}, {'team1': 'Reims', 'time': '14:00', 'team2': 'Nice'}, {'team1': 'Toulouse', 'time': '14:00', 'team2': 'Strasbourg'}], '04/14': [{'team1': 'Clermont', 'time': '14:00', 'team2': 'Montpellier'}, {'team1': 'Le Havre', 'time': '14:00', 'team2': 'Nantes'}, {'team1': 'Lorient', 'time': '14:00', 'team2': 'Paris Saint-Germain'}, {'team1': 'Lyon', 'time': '14:00', 'team2': 'Brest'}, {'team1': 'Marseille', 'time': '14:00', 'team2': 'Nice'}, {'team1': 'Metz', 'time': '14:00', 'team2': 'RC Lens'}, {'team1': 'Monaco', 'time': '14:00', 'team2': 'Lille'}, {'team1': 'Rennes', 'time': '14:00', 'team2': 'Toulouse'}, {'team1': 'Strasbourg', 'time': '14:00', 'team2': 'Reims'}], '04/21': [{'team1': 'Brest', 'time': '14:00', 'team2': 'Monaco'}, {'team1': 'Le Havre', 'time': '14:00', 'team2': 'Metz'}, {'team1': 'Lille', 'time': '14:00', 'team2': 'Strasbourg'}, {'team1': 'Nantes', 'time': '14:00', 'team2': 'Rennes'}, {'team1': 'Nice', 'time': '14:00', 'team2': 'Lorient'}, {'team1': 'Paris Saint-Germain', 'time': '14:00', 'team2': 'Lyon'}, {'team1': 'RC Lens', 'time': '14:00', 'team2': 'Clermont'}, {'team1': 'Reims', 'time': '14:00', 'team2': 'Montpellier'}, {'team1': 'Toulouse', 'time': '14:00', 'team2': 'Marseille'}], '04/28': [{'team1': 'Clermont', 'time': '14:00', 'team2': 'Reims'}, {'team1': 'Lorient', 'time': '14:00', 'team2': 'Toulouse'}, {'team1': 'Lyon', 'time': '14:00', 'team2': 'Monaco'}, {'team1': 'Marseille', 'time': '14:00', 'team2': 'RC Lens'}, {'team1': 'Metz', 'time': '14:00', 'team2': 'Lille'}, {'team1': 'Montpellier', 'time': '14:00', 'team2': 'Nantes'}, {'team1': 'Paris Saint-Germain', 'time': '14:00', 'team2': 'Le Havre'}, {'team1': 'Rennes', 'time': '14:00', 'team2': 'Brest'}, {'team1': 'Strasbourg', 'time': '14:00', 'team2': 'Nice'}], '05/03': [{'team1': 'Brest', 'time': '14:00', 'team2': 'Nantes'}, {'team1': 'Le Havre', 'time': '14:00', 'team2': 'Strasbourg'}, {'team1': 'Lille', 'time': '14:00', 'team2': 'Lyon'}, {'team1': 'Metz', 'time': '14:00', 'team2': 'Rennes'}, {'team1': 'Monaco', 'time': '14:00', 'team2': 'Clermont'}, {'team1': 'Nice', 'time': '14:00', 'team2': 'Paris Saint-Germain'}, {'team1': 'RC Lens', 'time': '14:00', 'team2': 'Lorient'}, {'team1': 'Reims', 'time': '14:00', 'team2': 'Marseille'}, {'team1': 'Toulouse', 'time': '14:00', 'team2': 'Montpellier'}], '05/11': [{'team1': 'Brest', 'time': '20:00', 'team2': 'Reims'}, {'team1': 'Clermont', 'time': '20:00', 'team2': 'Lyon'}, {'team1': 'Marseille', 'time': '20:00', 'team2': 'Lorient'}, {'team1': 'Montpellier', 'time': '20:00', 'team2': 'Monaco'}, {'team1': 'Nantes', 'time': '20:00', 'team2': 'Lille'}, {'team1': 'Nice', 'time': '20:00', 'team2': 'Le Havre'}, {'team1': 'Paris Saint-Germain', 'time': '20:00', 'team2': 'Toulouse'}, {'team1': 'Rennes', 'time': '20:00', 'team2': 'RC Lens'}, {'team1': 'Strasbourg', 'time': '20:00', 'team2': 'Metz'}], '05/18': [{'team1': 'Le Havre', 'time': '20:00', 'team2': 'Marseille'}, {'team1': 'Lille', 'time': '20:00', 'team2': 'Nice'}, {'team1': 'Lorient', 'time': '20:00', 'team2': 'Clermont'}, {'team1': 'Lyon', 'time': '20:00', 'team2': 'Strasbourg'}, {'team1': 'Metz', 'time': '20:00', 'team2': 'Paris Saint-Germain'}, {'team1': 'Monaco', 'time': '20:00', 'team2': 'Nantes'}, {'team1': 'RC Lens', 'time': '20:00', 'team2': 'Montpellier'}, {'team1': 'Reims', 'time': '20:00', 'team2': 'Rennes'}, {'team1': 'Toulouse', 'time': '20:00', 'team2': 'Brest'}]}\n"
     ]
    }
   ],
   "source": [
    "leagues = [\"premier-league\",\"la-liga\",\"bundesliga\",\"serie-a\",\"ligue-1\"]\n",
    "dir_ = ['en','es','de','it','fr']\n",
    "for option in range(1) :\n",
    "    url = \"https://www.skysports.com/\"+leagues[option]+\"-fixtures\"\n",
    "    driver.get(url)\n",
    "    driver.execute_script(\"window.scrollTo(0,document.body.scrollHeight)\")\n",
    "    try :\n",
    "        driver.find_element(By.XPATH,'//*[@id=\"widgetLite-10\"]/button').click()\n",
    "    except : \n",
    "        option -=1\n",
    "        print('can not find the see more button')\n",
    "        continue\n",
    "    driver.execute_script(\"window.scrollTo(0,document.body.scrollHeight)\")\n",
    "    monthslist = driver.find_elements(By.CLASS_NAME,'fixres__header1')\n",
    "    Months = []\n",
    "    for month in monthslist:\n",
    "        Months.append(month.text)\n",
    "        \n",
    "    Dayslist = driver.find_elements(By.CLASS_NAME,'fixres__header2')\n",
    "    Days = []\n",
    "    for month in Dayslist:\n",
    "        Days.append(month.text)\n",
    "        \n",
    "    distributionHTML = driver.find_elements(By.XPATH,'//*[@id=\"widgetLite-6\"]/*')\n",
    "    distro_of_days = [ ]\n",
    "    for item in distributionHTML : \n",
    "        distro_of_days.append(item.get_attribute(\"class\"))\n",
    "\n",
    "    team1_ = driver.find_elements(By.CLASS_NAME,'matches__participant--side1')\n",
    "    team2_ = driver.find_elements(By.CLASS_NAME,'matches__participant--side2')\n",
    "    time_ = driver.find_elements(By.CLASS_NAME,'matches__date')\n",
    "    Mat = []\n",
    "    c = 1\n",
    "    for i in range(len(team1_)):\n",
    "        Mat.append({\"team1\":team1_[i].text,\"ST\":time_[i].text,\"team2\":team2_[i].text})\n",
    "    months=Months.copy()\n",
    "    days=[]\n",
    "    matches = Mat.copy()\n",
    "    for day in Days :\n",
    "        format_ = '%A %d'+day.split()[1][-2:] +' %B'\n",
    "        date_obj = datetime.strptime(day,format_)\n",
    "        days.append(date_obj.strftime('%m/%d'))\n",
    "    \n",
    "    matches_of_month = []\n",
    "    matches_of_day = []\n",
    "    for i in distro_of_days:\n",
    "        if i == \"fixres__item\":\n",
    "            if matches != [] :\n",
    "                matches_of_day.append(matches.pop(0))\n",
    "            if len(matches) !=0:\n",
    "                continue\n",
    "        if matches_of_day != [] :\n",
    "            matches_of_month.append(matches_of_day)\n",
    "            matches_of_day = []\n",
    "    fixture_dict = {}\n",
    "    for i in range(len(matches_of_month)):\n",
    "        fixture_dict[days[i]] = matches_of_month[i]\n",
    "\n",
    "    with open('../../Json/matches/'+dir_[option]+'/2023-2024.json','w') as f :\n",
    "        json.dump(fixture_dict,f,indent=4)\n",
    "    "
   ]
  }
 ],
 "metadata": {
  "kernelspec": {
   "display_name": "Python 3",
   "language": "python",
   "name": "python3"
  },
  "language_info": {
   "codemirror_mode": {
    "name": "ipython",
    "version": 3
   },
   "file_extension": ".py",
   "mimetype": "text/x-python",
   "name": "python",
   "nbconvert_exporter": "python",
   "pygments_lexer": "ipython3",
   "version": "3.11.4"
  },
  "orig_nbformat": 4
 },
 "nbformat": 4,
 "nbformat_minor": 2
}
