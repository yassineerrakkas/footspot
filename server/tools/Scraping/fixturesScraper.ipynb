{
 "cells": [
  {
   "cell_type": "code",
   "execution_count": 1,
   "metadata": {},
   "outputs": [],
   "source": [
    "from selenium import webdriver\n",
    "from selenium.webdriver.common.by import By\n",
    "from datetime import datetime\n",
    "import json\n"
   ]
  },
  {
   "cell_type": "code",
   "execution_count": 2,
   "metadata": {},
   "outputs": [],
   "source": [
    "driver = webdriver.Edge()\n",
    "driver.get(\"https://www.skysports.com/ligue-1-fixtures\")"
   ]
  },
  {
   "cell_type": "code",
   "execution_count": 4,
   "metadata": {},
   "outputs": [
    {
     "name": "stdout",
     "output_type": "stream",
     "text": [
      "can not find the see more button\n"
     ]
    }
   ],
   "source": [
    "leagues = [\"premier-league\",\"la-liga\",\"bundesliga\",\"serie-a\",\"ligue-1\"]\n",
    "dir_ = ['en','es','de','it','fr']\n",
    "for option in range(5) :\n",
    "    url = \"https://www.skysports.com/\"+leagues[option]+\"-fixtures\"\n",
    "    driver.get(url)\n",
    "    driver.execute_script(\"window.scrollTo(0,document.body.scrollHeight)\")\n",
    "    try :\n",
    "        driver.find_element(By.XPATH,'//*[@id=\"widgetLite-10\"]/button').click()\n",
    "    except : \n",
    "        print('can not find the see more button')\n",
    "    driver.execute_script(\"window.scrollTo(0,document.body.scrollHeight)\")\n",
    "    monthslist = driver.find_elements(By.CLASS_NAME,'fixres__header1')\n",
    "    Months = []\n",
    "    for month in monthslist:\n",
    "        Months.append(month.text)\n",
    "        \n",
    "    Dayslist = driver.find_elements(By.CLASS_NAME,'fixres__header2')\n",
    "    Days = []\n",
    "    for month in Dayslist:\n",
    "        Days.append(month.text)\n",
    "        \n",
    "    distributionHTML = driver.find_elements(By.XPATH,'//*[@id=\"widgetLite-6\"]/*')\n",
    "    distro_of_days = [ ]\n",
    "    for item in distributionHTML : \n",
    "        distro_of_days.append(item.get_attribute(\"class\"))\n",
    "\n",
    "    team1_ = driver.find_elements(By.CLASS_NAME,'matches__participant--side1')\n",
    "    team2_ = driver.find_elements(By.CLASS_NAME,'matches__participant--side2')\n",
    "    time_ = driver.find_elements(By.CLASS_NAME,'matches__date')\n",
    "    Mat = []\n",
    "    c = 1\n",
    "    for i in range(len(team1_)):\n",
    "        Mat.append({\"team1\":team1_[i].text,\"ST\":time_[i].text,\"team2\":team2_[i].text})\n",
    "    months=Months.copy()\n",
    "    days=[]\n",
    "    matches = Mat.copy()\n",
    "    for day in Days :\n",
    "        format_ = '%A %d'+day.split()[1][-2:] +' %B'\n",
    "        date_obj = datetime.strptime(day,format_)\n",
    "        days.append(date_obj.strftime('%m/%d'))\n",
    "    \n",
    "    matches_of_month = []\n",
    "    matches_of_day = []\n",
    "    for i in distro_of_days:\n",
    "        if i == \"fixres__item\":\n",
    "            if matches != [] :\n",
    "                matches_of_day.append(matches.pop(0))\n",
    "            if len(matches) !=0:\n",
    "                continue\n",
    "        if matches_of_day != [] :\n",
    "            matches_of_month.append(matches_of_day)\n",
    "            matches_of_day = []\n",
    "    fixture_dict = {}\n",
    "    for i in range(len(matches_of_month)):\n",
    "        fixture_dict[days[i]] = matches_of_month[i]\n",
    "\n",
    "    with open('../../Json/matches/'+dir_[option]+'/2023-2024d.json','w') as f :\n",
    "        json.dump(fixture_dict,f,indent=4)\n",
    "    "
   ]
  }
 ],
 "metadata": {
  "kernelspec": {
   "display_name": "Python 3",
   "language": "python",
   "name": "python3"
  },
  "language_info": {
   "codemirror_mode": {
    "name": "ipython",
    "version": 3
   },
   "file_extension": ".py",
   "mimetype": "text/x-python",
   "name": "python",
   "nbconvert_exporter": "python",
   "pygments_lexer": "ipython3",
   "version": "3.11.5"
  },
  "orig_nbformat": 4
 },
 "nbformat": 4,
 "nbformat_minor": 2
}
