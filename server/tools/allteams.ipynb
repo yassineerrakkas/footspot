{
 "cells": [
  {
   "cell_type": "code",
   "execution_count": 161,
   "metadata": {},
   "outputs": [],
   "source": [
    "from selenium import webdriver\n",
    "from selenium.webdriver.common.by import By\n",
    "import csv\n",
    "driver = webdriver.Edge()\n"
   ]
  },
  {
   "cell_type": "code",
   "execution_count": 163,
   "metadata": {},
   "outputs": [],
   "source": [
    "driver.get('https://www.sofascore.com')"
   ]
  },
  {
   "cell_type": "code",
   "execution_count": 199,
   "metadata": {},
   "outputs": [],
   "source": [
    "teamids = {}"
   ]
  },
  {
   "cell_type": "code",
   "execution_count": 214,
   "metadata": {},
   "outputs": [
    {
     "data": {
      "text/plain": [
       "36"
      ]
     },
     "execution_count": 214,
     "metadata": {},
     "output_type": "execute_result"
    }
   ],
   "source": [
    "aTags = driver.find_elements(By.XPATH,'//*[@id=\"__next\"]/main/div/div[3]/div/div[1]/div[1]/div[2]/div/div[1]/div/div[2]/div/a')\n",
    "for i in aTags:\n",
    "    a = i.get_attribute(\"href\").split('/')\n",
    "    teamids[a[-2]] = a[-1] \n",
    "len(teamids)"
   ]
  },
  {
   "cell_type": "code",
   "execution_count": 215,
   "metadata": {},
   "outputs": [],
   "source": [
    "teams = list(teamids.keys())\n",
    "ids =  list(teamids.values())\n",
    "\n",
    "data_dict = []\n",
    "for i in range(len(teams)):\n",
    "    data_dict.append({'team':teams[i],'id':ids[i]})\n"
   ]
  },
  {
   "cell_type": "code",
   "execution_count": 216,
   "metadata": {},
   "outputs": [],
   "source": [
    "with open('fr-teams.csv', 'w') as f:\n",
    "    writer = csv.DictWriter(f, fieldnames=['team', 'id'])\n",
    "    writer.writeheader()\n",
    "    writer.writerows(data_dict)"
   ]
  }
 ],
 "metadata": {
  "kernelspec": {
   "display_name": "Python 3",
   "language": "python",
   "name": "python3"
  },
  "language_info": {
   "codemirror_mode": {
    "name": "ipython",
    "version": 3
   },
   "file_extension": ".py",
   "mimetype": "text/x-python",
   "name": "python",
   "nbconvert_exporter": "python",
   "pygments_lexer": "ipython3",
   "version": "3.11.4"
  },
  "orig_nbformat": 4
 },
 "nbformat": 4,
 "nbformat_minor": 2
}
